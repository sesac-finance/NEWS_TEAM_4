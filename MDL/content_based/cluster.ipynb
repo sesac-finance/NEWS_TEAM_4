{
 "cells": [
  {
   "cell_type": "code",
   "execution_count": null,
   "metadata": {},
   "outputs": [],
   "source": [
    "import pandas as pd\n",
    "from gensim.models.doc2vec import Doc2Vec\n",
    "import matplotlib.pyplot as plt\n",
    "from sklearn.decomposition import PCA\n",
    "from sklearn.cluster import DBSCAN\n",
    "import numpy as np\n",
    "from tqdm import tqdm\n",
    "\n",
    "def load_model(model_name, df):\n",
    "    df['corpus_vector'] = ''\n",
    "    # corpus_vector = pd.DataFrame([columns=])\n",
    "    model= Doc2Vec.load(model_name)\n",
    "    for i in range(len(df)):\n",
    "        df['corpus_vector'].iloc[i] = model.infer_vector(df['Content'].iloc[i].split())\n",
    "    return df\n",
    "\n",
    "def dbscan(df):\n",
    "    \"\"\"Function to form dbscan clusters and display them\"\"\"\n",
    "#     eps = 0.005# how close points should be to each other to be considered a part of a cluster \n",
    "#     min_samples = 3# the minimum number of points to form a dense region  \n",
    "#     dbscan = DBSCAN( eps=eps, min_samples=min_samples,metric = \"cosine\" ) \n",
    "#     dbscan_model = dbscan.fit(corpus_vector)\n",
    "    \n",
    "    pca = PCA(n_components=2)\n",
    "    result = pca.fit_transform(df['corpus_vector'].to_list())\n",
    "    print(result.shape)\n",
    "    db = DBSCAN(eps=0.002, min_samples=3)\n",
    "    dbscan_model = db.fit(result)\n",
    "    #Forming the clusters\n",
    "\n",
    "    core_samples_mask = np.zeros_like(dbscan_model.labels_, dtype=bool)\n",
    "    core_samples_mask[dbscan_model.core_sample_indices_] = True\n",
    "    labels1 = dbscan_model.labels_\n",
    "    print(labels1)\n",
    "    n_clusters_ = len(set(labels1)) - (1 if -1 in labels1 else 0) # Number of clusters in labels\n",
    "    # print(labels1)\n",
    "    print(len(labels1))\n",
    "    # print(n_clusters_) # number of clusters\n",
    "    df['ClusterNum'] =''\n",
    "    clusters1 = {} # a dictionary for different cluster \n",
    "    for c, i in enumerate(labels1):\n",
    "        if i == -1:\n",
    "            continue\n",
    "        elif i in clusters1:\n",
    "            clusters1[i].append(df['ID'].iloc[c])\n",
    "            df['ClusterNum'].iloc[c] = i\n",
    "        else:\n",
    "            clusters1[i] = [df['ID'].iloc[c]]\n",
    "            \n",
    "            df['ClusterNum'].iloc[c] = i\n",
    "    with open('./cluster.txt', 'w') as f:\n",
    "        for c in clusters1:\n",
    "            f.write(\"Cluster No.\"+\" \"+str(c)+\" \"+str(clusters1[c]))\n",
    "            f.write('--------------\\n')\n",
    "            f.write('\\n')  \n",
    "    # for c in clusters1: # print the different clusters\n",
    "    #     print(\"Cluster No.\"+\" \"+str(c)+\" \"+str(clusters1[c]))\n",
    "    #     print()\n",
    "    \n",
    "    return df, clusters1"
   ]
  },
  {
   "cell_type": "code",
   "execution_count": null,
   "metadata": {},
   "outputs": [],
   "source": [
    "\n",
    "df = pd.read_csv('/Users/stillssi/Desktop/NEWS_TEAM_4/MDL/content_based/sample_df.csv')\n",
    "df = load_model(\"/Users/stillssi/Desktop/NEWS_TEAM_4/MDL/content_based/model/trainedMDL\",df)\n"
   ]
  },
  {
   "cell_type": "code",
   "execution_count": null,
   "metadata": {},
   "outputs": [],
   "source": [
    "df.drop(['Unnamed: 0'], axis=1, inplace=True)"
   ]
  },
  {
   "cell_type": "code",
   "execution_count": null,
   "metadata": {},
   "outputs": [],
   "source": [
    "df, cluster1 = dbscan(df)"
   ]
  },
  {
   "cell_type": "code",
   "execution_count": null,
   "metadata": {},
   "outputs": [],
   "source": [
    "df"
   ]
  },
  {
   "cell_type": "code",
   "execution_count": null,
   "metadata": {},
   "outputs": [],
   "source": [
    "df.drop(['CosSimilarity'], axis=1, inplace=True)\n",
    "df_1 = df[df['ClusterNum'] != '']\n",
    "cluster_df = pd.DataFrame(data = [cluster1])\n",
    "cluster_df=cluster_df.transpose()"
   ]
  },
  {
   "cell_type": "code",
   "execution_count": null,
   "metadata": {},
   "outputs": [],
   "source": [
    "cluster_df.to_csv('./cluster_list.csv')"
   ]
  },
  {
   "cell_type": "code",
   "execution_count": null,
   "metadata": {},
   "outputs": [],
   "source": [
    "cluster_df = pd.read_csv('/Users/stillssi/Desktop/NEWS_TEAM_4/MDL/content_based/cluster_list.csv')"
   ]
  },
  {
   "cell_type": "code",
   "execution_count": null,
   "metadata": {},
   "outputs": [],
   "source": [
    "cluster_df.columns"
   ]
  },
  {
   "cell_type": "code",
   "execution_count": null,
   "metadata": {},
   "outputs": [],
   "source": [
    "cluster_df.rename(columns={'Unnamed: 0':'cluster'}, inplace=True)\n",
    "cluster_df.rename(columns={'0':'list'}, inplace=True)"
   ]
  },
  {
   "cell_type": "code",
   "execution_count": null,
   "metadata": {},
   "outputs": [],
   "source": [
    "cluster_df"
   ]
  },
  {
   "cell_type": "code",
   "execution_count": null,
   "metadata": {},
   "outputs": [],
   "source": [
    "cluster_df.set_index('cluster')"
   ]
  },
  {
   "cell_type": "code",
   "execution_count": null,
   "metadata": {},
   "outputs": [],
   "source": [
    "df = df[df['ClusterNum'] != '']"
   ]
  },
  {
   "cell_type": "code",
   "execution_count": null,
   "metadata": {},
   "outputs": [],
   "source": [
    "#df에서 ClusterNum 칼럼 값 가져옴 -> cluster_df칼럼 (df벡터와 cluster_df의 리스트의 뉴스ID의 벡터와 cos계산)"
   ]
  },
  {
   "cell_type": "code",
   "execution_count": null,
   "metadata": {},
   "outputs": [],
   "source": [
    "len(cluster1)"
   ]
  },
  {
   "cell_type": "code",
   "execution_count": null,
   "metadata": {},
   "outputs": [],
   "source": [
    "df.head(3)"
   ]
  },
  {
   "cell_type": "code",
   "execution_count": null,
   "metadata": {},
   "outputs": [],
   "source": [
    "df = df.set_index('ID')"
   ]
  },
  {
   "cell_type": "code",
   "execution_count": null,
   "metadata": {},
   "outputs": [],
   "source": [
    "df"
   ]
  },
  {
   "cell_type": "code",
   "execution_count": null,
   "metadata": {},
   "outputs": [],
   "source": [
    "df['cossim_list'] = ''"
   ]
  },
  {
   "cell_type": "code",
   "execution_count": null,
   "metadata": {},
   "outputs": [],
   "source": [
    "import numpy as np\n",
    "from numpy import dot\n",
    "from numpy.linalg import norm\n",
    "\n",
    "def cos_sim(A, B):\n",
    "  return dot(A, B)/(norm(A)*norm(B))"
   ]
  },
  {
   "cell_type": "code",
   "execution_count": null,
   "metadata": {},
   "outputs": [],
   "source": [
    "df.loc[886057]\n"
   ]
  },
  {
   "cell_type": "code",
   "execution_count": null,
   "metadata": {},
   "outputs": [],
   "source": [
    "from tqdm import tqdm\n",
    "import itertools\n",
    "from sklearn.metrics.pairwise import cosine_similarity\n",
    "for i in range(len(df)):\n",
    "    cosine_sim_list = []\n",
    "    # 뉴스 아이디 리스트\n",
    "    id_list = cluster_df.loc[cluster_df['cluster'] == df['ClusterNum'].iloc[i], 'list']\n",
    "    tmp = id_list.values[0].replace('[','')\n",
    "    tmp = tmp.replace(']','')\n",
    "    tmp = tmp.split(',')\n",
    "    \n",
    "    id_list = list(map(int, tmp))\n",
    "    # print(id_list)\n",
    "    id_list_df = df.loc[id_list]\n",
    "    # print(id_list_df)\n",
    "    vec1 = df['corpus_vector'].iloc[i]\n",
    "    vec1 = np.reshape(vec1,(100,1))\n",
    "\n",
    "    id_list_df = id_list_df['corpus_vector'].apply(lambda x: np.reshape(x, (100,1)))\n",
    "    for j in id_list_df.index:\n",
    "        cosine_result = cos_sim(vec1.T, id_list_df[j])\n",
    "        cosine_result = cosine_result.tolist()\n",
    "        if cosine_result[0][0] == 1.0:\n",
    "            pass\n",
    "        else:\n",
    "            cosine_sim_list.append((j,cosine_result[0][0]))\n",
    "    \n",
    "    df['cossim_list'].iloc[i] = cosine_sim_list\n"
   ]
  },
  {
   "cell_type": "code",
   "execution_count": null,
   "metadata": {},
   "outputs": [],
   "source": [
    "for i in df['cossim_list']:\n",
    "    i.sort(key=lambda x: (x[0], -x[1]), reverse=True)"
   ]
  },
  {
   "cell_type": "code",
   "execution_count": null,
   "metadata": {},
   "outputs": [],
   "source": [
    "df.to_csv('./content_based_df.csv')"
   ]
  },
  {
   "cell_type": "code",
   "execution_count": null,
   "metadata": {},
   "outputs": [],
   "source": [
    "content_df = df.copy()"
   ]
  },
  {
   "cell_type": "code",
   "execution_count": null,
   "metadata": {},
   "outputs": [],
   "source": [
    "content_df['sim_rank'] = ''"
   ]
  },
  {
   "cell_type": "code",
   "execution_count": null,
   "metadata": {},
   "outputs": [],
   "source": [
    "k = 0\n",
    "for i in content_df['cossim_list']:\n",
    "    sim_list = []\n",
    "    for j in range(len(i)):\n",
    "        sim_list.append(i[j][0])\n",
    "    content_df['sim_rank'].iloc[k] = sim_list\n",
    "    k +=1"
   ]
  },
  {
   "cell_type": "code",
   "execution_count": null,
   "metadata": {},
   "outputs": [],
   "source": [
    "content_df.drop(['corpus_vector', 'ClusterNum','cossim_list'], axis=1, inplace=True)"
   ]
  },
  {
   "cell_type": "code",
   "execution_count": null,
   "metadata": {},
   "outputs": [],
   "source": [
    "content_df.rename(columns={\"sim_rank\": \"cossimilarity\"}, inplace=True)"
   ]
  },
  {
   "cell_type": "code",
   "execution_count": null,
   "metadata": {},
   "outputs": [],
   "source": [
    "import traceback\n",
    "import pymysql\n",
    "class Mysql:\n",
    "\n",
    "    def __init__(self, db_config:dict) -> None:\n",
    "        '''\n",
    "        생성자 메서드\n",
    "        인스턴스 생성 시 db_config를 전달받아 DB에 연결합니다.\n",
    "        '''\n",
    "        self.DB = pymysql.connect(**db_config)\n",
    "        return\n",
    "\n",
    "    def insert_many(self, table:str, columns: str, values: list) -> bool:\n",
    "            \"\"\"\n",
    "            Insert Many Datas\n",
    "            예시)\n",
    "            table = \"Students\"\n",
    "            columns = \"name, email, phone\"\n",
    "            values = [\n",
    "                ('이름', '이메일', '번호'),\n",
    "                ...\n",
    "            ]\n",
    "            \"\"\"\n",
    "            \n",
    "\n",
    "            sql = f\"INSERT INTO {table}({columns}) \" \\\n",
    "                    \"VALUES (\"  + ','.join([\"%s\"]*len(values[0])) + \");\"\n",
    "            try:\n",
    "                \n",
    "                with self.DB.cursor() as cur:\n",
    "                    cur.executemany(sql, values)\n",
    "                    self.DB.commit()\n",
    "                return True\n",
    "            except:\n",
    "                traceback.print_exc()\n",
    "                return False"
   ]
  },
  {
   "cell_type": "code",
   "execution_count": null,
   "metadata": {},
   "outputs": [],
   "source": []
  },
  {
   "cell_type": "code",
   "execution_count": null,
   "metadata": {},
   "outputs": [],
   "source": [
    "content_df['cossimilarity'] = content_df['cossimilarity'].apply(lambda x: ','.join(s for s in x))"
   ]
  },
  {
   "cell_type": "code",
   "execution_count": null,
   "metadata": {},
   "outputs": [],
   "source": [
    "content_df['cossimilarity'] = content_df['cossimilarity'].apply(lambda x: x.replace(']',''))\n",
    "content_df['cossimilarity']=content_df['cossimilarity'].apply(lambda x: x.replace('[',''))"
   ]
  },
  {
   "cell_type": "code",
   "execution_count": 135,
   "metadata": {},
   "outputs": [],
   "source": [
    "df_con = {'host':'localhost','port':3306,'user':'root','password':'12345678','db':'news_rec','charset':'utf8'}\n",
    "db_insert = Mysql(df_con)"
   ]
  },
  {
   "cell_type": "code",
   "execution_count": 136,
   "metadata": {},
   "outputs": [],
   "source": [
    "table = 'tb_news_team_4'\n",
    "col = \"DomainID, MainCategory, SubCategory, WritedAt, Title,Content, URL, PhotoURL, Writer, Stickers, Press,cossimilarity\""
   ]
  },
  {
   "cell_type": "code",
   "execution_count": 144,
   "metadata": {},
   "outputs": [],
   "source": [
    "content_df = content_df.fillna('')"
   ]
  },
  {
   "cell_type": "code",
   "execution_count": 145,
   "metadata": {},
   "outputs": [],
   "source": [
    "da = []\n",
    "for i in range(len(content_df)):\n",
    "    data_list = []\n",
    "    data = content_df.iloc[i].values\n",
    "    for i in range(len(data)):\n",
    "        data_list.append(data[i])\n",
    "    data = tuple(data_list)\n",
    "    da.append(data)\n",
    "\n"
   ]
  },
  {
   "cell_type": "code",
   "execution_count": 146,
   "metadata": {},
   "outputs": [
    {
     "data": {
      "text/plain": [
       "True"
      ]
     },
     "execution_count": 146,
     "metadata": {},
     "output_type": "execute_result"
    }
   ],
   "source": [
    "db_insert.insert_many(table=table, columns=col, values=da)"
   ]
  },
  {
   "cell_type": "code",
   "execution_count": 149,
   "metadata": {},
   "outputs": [
    {
     "name": "stderr",
     "output_type": "stream",
     "text": [
      "/var/folders/z9/0vcwpql57g75_wt83hs0h89h0000gn/T/ipykernel_29640/3219018108.py:17: UserWarning: pandas only supports SQLAlchemy connectable (engine/connection) or database string URI or sqlite3 DBAPI2 connection. Other DBAPI2 objects are not tested. Please consider using SQLAlchemy.\n",
      "  df=pd.read_sql(SQL, db)\n"
     ]
    }
   ],
   "source": [
    "import pymysql\n",
    "import pandas as pd\n",
    "host_name = 'localhost'\n",
    "host_port = 3306\n",
    "username='root'\n",
    "password='12345678'\n",
    "database_name='news_rec'\n",
    "db = pymysql.connect(\n",
    "    host=host_name,\n",
    "    port=host_port,\n",
    "    user=username,\n",
    "    password=password,\n",
    "    db=database_name,\n",
    "    charset='utf8'\n",
    ")\n",
    "SQL='SELECT * FROM tb_news_team_4'\n",
    "df=pd.read_sql(SQL, db)"
   ]
  },
  {
   "cell_type": "code",
   "execution_count": 150,
   "metadata": {},
   "outputs": [
    {
     "data": {
      "text/html": [
       "<div>\n",
       "<style scoped>\n",
       "    .dataframe tbody tr th:only-of-type {\n",
       "        vertical-align: middle;\n",
       "    }\n",
       "\n",
       "    .dataframe tbody tr th {\n",
       "        vertical-align: top;\n",
       "    }\n",
       "\n",
       "    .dataframe thead th {\n",
       "        text-align: right;\n",
       "    }\n",
       "</style>\n",
       "<table border=\"1\" class=\"dataframe\">\n",
       "  <thead>\n",
       "    <tr style=\"text-align: right;\">\n",
       "      <th></th>\n",
       "      <th>ID</th>\n",
       "      <th>DomainID</th>\n",
       "      <th>MainCategory</th>\n",
       "      <th>SubCategory</th>\n",
       "      <th>WritedAt</th>\n",
       "      <th>Title</th>\n",
       "      <th>Content</th>\n",
       "      <th>URL</th>\n",
       "      <th>PhotoURL</th>\n",
       "      <th>Writer</th>\n",
       "      <th>Stickers</th>\n",
       "      <th>Press</th>\n",
       "      <th>CosSimilarity</th>\n",
       "    </tr>\n",
       "  </thead>\n",
       "  <tbody>\n",
       "    <tr>\n",
       "      <th>0</th>\n",
       "      <td>1</td>\n",
       "      <td>2</td>\n",
       "      <td>스포츠</td>\n",
       "      <td>농구</td>\n",
       "      <td>2022-11-27 16:11:00</td>\n",
       "      <td>아반도, 날카로운 골밑 돌파! [포토]</td>\n",
       "      <td>돌 실내 경기도 서울 열린 파고다 경기 안양 아반 체육관 수비</td>\n",
       "      <td>https://v.daum.net/v/YoIX22A092</td>\n",
       "      <td>https://t1.daumcdn.net/news/202211/27/sportsdo...</td>\n",
       "      <td>김민성 기자</td>\n",
       "      <td>{'추천해요': 0, '좋아요': 0, '감동이에요': 0, '화나요': 0, '슬...</td>\n",
       "      <td>스포츠동아</td>\n",
       "      <td>1249668, 949955, 944830, 868607, 84458</td>\n",
       "    </tr>\n",
       "    <tr>\n",
       "      <th>1</th>\n",
       "      <td>2</td>\n",
       "      <td>2</td>\n",
       "      <td>스포츠</td>\n",
       "      <td>축구</td>\n",
       "      <td>2022-11-14 09:39:00</td>\n",
       "      <td>\"김민재, 호날두-수아레스와 일대일 가능... 손흥민 최고\" ESPN</td>\n",
       "      <td>같 월드컵 아시아 한국 수아레스 이어 김민재 선보일 보유고 소개 능력 피지컬 선수 ...</td>\n",
       "      <td>https://v.daum.net/v/1czH3hZdrj</td>\n",
       "      <td>https://t1.daumcdn.net/news/202211/14/poctan/2...</td>\n",
       "      <td>우충원</td>\n",
       "      <td>{'추천해요': 12, '좋아요': 161, '감동이에요': 14, '화나요': 4...</td>\n",
       "      <td>OSEN</td>\n",
       "      <td>889553, 874244, 72094, 54353</td>\n",
       "    </tr>\n",
       "    <tr>\n",
       "      <th>2</th>\n",
       "      <td>3</td>\n",
       "      <td>2</td>\n",
       "      <td>스포츠</td>\n",
       "      <td>야구</td>\n",
       "      <td>2022-11-25 19:59:00</td>\n",
       "      <td>박동원 LG행으로 사라진 18홈런…누가 KIA의 대포 갈증을 해결할까</td>\n",
       "      <td>시즌 다황 이룰 대인 주 필요 생산력 효상 임석진 위한 선박 보강 동원 금지 재재 ...</td>\n",
       "      <td>https://v.daum.net/v/7hF6gGfO8x</td>\n",
       "      <td>https://t1.daumcdn.net/news/202211/25/mydaily/...</td>\n",
       "      <td>마이데일리</td>\n",
       "      <td>{'추천해요': 1, '좋아요': 20, '감동이에요': 1, '화나요': 81, ...</td>\n",
       "      <td>마이데일리</td>\n",
       "      <td>907574, 888463, 86906</td>\n",
       "    </tr>\n",
       "    <tr>\n",
       "      <th>3</th>\n",
       "      <td>4</td>\n",
       "      <td>1</td>\n",
       "      <td>스포츠</td>\n",
       "      <td>야구</td>\n",
       "      <td>2022-11-30 17:01:00</td>\n",
       "      <td>파노니도 바꿀 수 있다 140km 2점대 ERA 좌좌→150km 우우, KIA 외인...</td>\n",
       "      <td>타이거즈 우완 다 구상 염두 나온다면 바꿀 수다 기자 같 제공 투수 교체 펀치 원투...</td>\n",
       "      <td>https://sports.news.naver.com/news?oid=109&amp;aid...</td>\n",
       "      <td>['https://imgnews.pstatic.net/image/109/2022/1...</td>\n",
       "      <td>이선호</td>\n",
       "      <td>{'좋아요': 147, '슬퍼요': 3, '화나요': 15, '팬이에요': 10, ...</td>\n",
       "      <td>OSEN</td>\n",
       "      <td>969100, 964532, 937377, 931381, 923472, 917990...</td>\n",
       "    </tr>\n",
       "    <tr>\n",
       "      <th>4</th>\n",
       "      <td>5</td>\n",
       "      <td>2</td>\n",
       "      <td>스포츠</td>\n",
       "      <td>야구</td>\n",
       "      <td>2022-11-20 19:06:00</td>\n",
       "      <td>김유성 '국민의례 마치고 박수'[포토]</td>\n",
       "      <td>오후 몬스터즈 다 송파구 잠실 서울 박수 연습 베어스 열린 잠실야구장 최강 경기 김...</td>\n",
       "      <td>https://v.daum.net/v/tjGDTHujoH</td>\n",
       "      <td>https://t1.daumcdn.net/news/202211/20/xportsne...</td>\n",
       "      <td>김한준 기자</td>\n",
       "      <td>{'추천해요': 0, '좋아요': 0, '감동이에요': 0, '화나요': 6, '슬...</td>\n",
       "      <td>엑스포츠뉴스</td>\n",
       "      <td>1299012, 1286520, 976357, 954321, 948450, 9276...</td>\n",
       "    </tr>\n",
       "    <tr>\n",
       "      <th>...</th>\n",
       "      <td>...</td>\n",
       "      <td>...</td>\n",
       "      <td>...</td>\n",
       "      <td>...</td>\n",
       "      <td>...</td>\n",
       "      <td>...</td>\n",
       "      <td>...</td>\n",
       "      <td>...</td>\n",
       "      <td>...</td>\n",
       "      <td>...</td>\n",
       "      <td>...</td>\n",
       "      <td>...</td>\n",
       "      <td>...</td>\n",
       "    </tr>\n",
       "    <tr>\n",
       "      <th>13910</th>\n",
       "      <td>13911</td>\n",
       "      <td>2</td>\n",
       "      <td>연예</td>\n",
       "      <td>해외연예</td>\n",
       "      <td>2022-11-15 00:00:00</td>\n",
       "      <td>다니엘 크레이그, “제임스 본드로 돌아가지 않겠다”[해외이슈]</td>\n",
       "      <td>아웃 나아갈 이브스 크레이그 어니언 위한 돌아온다 한편 단전 금지 영화 배포 글래스...</td>\n",
       "      <td>https://v.daum.net/v/20221118094356821</td>\n",
       "      <td>https://img1.daumcdn.net/thumb/R658x0.q70/?fna...</td>\n",
       "      <td>입력</td>\n",
       "      <td></td>\n",
       "      <td>마이데일리</td>\n",
       "      <td>1334309, 1334286, 1333959, 1333276, 1332530, 1...</td>\n",
       "    </tr>\n",
       "    <tr>\n",
       "      <th>13911</th>\n",
       "      <td>13912</td>\n",
       "      <td>2</td>\n",
       "      <td>연예</td>\n",
       "      <td>연예일반</td>\n",
       "      <td>2022-11-15 00:00:00</td>\n",
       "      <td>아이리스(IRRIS), 눈 뗄 수 없는 매력 ‘Stay W!th Me’ 퍼포먼스 비디오</td>\n",
       "      <td>성숙 리브 채널 반응 전망 끌 기자 에너지 유튜브 공개 글로벌 비디오 시 니나 싱글...</td>\n",
       "      <td>https://v.daum.net/v/20221125220043377</td>\n",
       "      <td>https://img3.daumcdn.net/thumb/R658x0.q70/?fna...</td>\n",
       "      <td>손봉석</td>\n",
       "      <td></td>\n",
       "      <td>스포츠경향</td>\n",
       "      <td>970805, 954107</td>\n",
       "    </tr>\n",
       "    <tr>\n",
       "      <th>13912</th>\n",
       "      <td>13913</td>\n",
       "      <td>2</td>\n",
       "      <td>연예</td>\n",
       "      <td>연예일반</td>\n",
       "      <td>2022-11-15 00:00:00</td>\n",
       "      <td>'세븐♥' 이다해, 뷰티 MC의 패션은 시상식이네…화려함 그 잡채</td>\n",
       "      <td>다 스타일링 이다해 기자 완성 세븐 공개 매치 셔츠 애 가수 드레스</td>\n",
       "      <td>https://v.daum.net/v/20221127161102212</td>\n",
       "      <td>https://img2.daumcdn.net/thumb/R658x0.q70/?fna...</td>\n",
       "      <td>강민경</td>\n",
       "      <td></td>\n",
       "      <td>텐아시아</td>\n",
       "      <td>1259186, 887183, 19873</td>\n",
       "    </tr>\n",
       "    <tr>\n",
       "      <th>13913</th>\n",
       "      <td>13914</td>\n",
       "      <td>2</td>\n",
       "      <td>연예</td>\n",
       "      <td>방송</td>\n",
       "      <td>2022-11-15 00:00:00</td>\n",
       "      <td>'편스토랑' 박수홍, 20년 인연 지인에 오열 \"모두가 등 돌릴 때 남아줬어\" [T...</td>\n",
       "      <td>인연 지혜 기자 눈물 수연 이날 사람 다 전보 박수홍</td>\n",
       "      <td>https://v.daum.net/v/20221202220209324</td>\n",
       "      <td>https://img2.daumcdn.net/thumb/R658x0.q70/?fna...</td>\n",
       "      <td>임시령</td>\n",
       "      <td></td>\n",
       "      <td>스포츠투데이</td>\n",
       "      <td>1333042, 1327554, 1323032, 1304638, 1302469, 1...</td>\n",
       "    </tr>\n",
       "    <tr>\n",
       "      <th>13914</th>\n",
       "      <td>13915</td>\n",
       "      <td>1</td>\n",
       "      <td>연예</td>\n",
       "      <td>해외연예</td>\n",
       "      <td>2022-11-22 18:57:00</td>\n",
       "      <td>눈이 예쁜 로제 [MK포토]</td>\n",
       "      <td>귀국 국 콘서트 오후 인천 국제공항 길 투어 통해 수리 사귀 제니 블랙 핑크 이날 ...</td>\n",
       "      <td>https://entertain.naver.com//now/read?oid=410&amp;...</td>\n",
       "      <td>['https://ssl.pstatic.net/mimgnews/image/410/2...</td>\n",
       "      <td>김재현</td>\n",
       "      <td>{'좋아요': 34, '응원해요': 30, '축하해요': '0', '기대해요': '...</td>\n",
       "      <td>MK스포츠</td>\n",
       "      <td>977177, 970345, 947506, 927451, 913778, 910380...</td>\n",
       "    </tr>\n",
       "  </tbody>\n",
       "</table>\n",
       "<p>13915 rows × 13 columns</p>\n",
       "</div>"
      ],
      "text/plain": [
       "          ID  DomainID MainCategory SubCategory            WritedAt  \\\n",
       "0          1         2          스포츠          농구 2022-11-27 16:11:00   \n",
       "1          2         2          스포츠          축구 2022-11-14 09:39:00   \n",
       "2          3         2          스포츠          야구 2022-11-25 19:59:00   \n",
       "3          4         1          스포츠          야구 2022-11-30 17:01:00   \n",
       "4          5         2          스포츠          야구 2022-11-20 19:06:00   \n",
       "...      ...       ...          ...         ...                 ...   \n",
       "13910  13911         2           연예        해외연예 2022-11-15 00:00:00   \n",
       "13911  13912         2           연예        연예일반 2022-11-15 00:00:00   \n",
       "13912  13913         2           연예        연예일반 2022-11-15 00:00:00   \n",
       "13913  13914         2           연예          방송 2022-11-15 00:00:00   \n",
       "13914  13915         1           연예        해외연예 2022-11-22 18:57:00   \n",
       "\n",
       "                                                   Title  \\\n",
       "0                                  아반도, 날카로운 골밑 돌파! [포토]   \n",
       "1                 \"김민재, 호날두-수아레스와 일대일 가능... 손흥민 최고\" ESPN   \n",
       "2                 박동원 LG행으로 사라진 18홈런…누가 KIA의 대포 갈증을 해결할까   \n",
       "3      파노니도 바꿀 수 있다 140km 2점대 ERA 좌좌→150km 우우, KIA 외인...   \n",
       "4                                  김유성 '국민의례 마치고 박수'[포토]   \n",
       "...                                                  ...   \n",
       "13910                 다니엘 크레이그, “제임스 본드로 돌아가지 않겠다”[해외이슈]   \n",
       "13911   아이리스(IRRIS), 눈 뗄 수 없는 매력 ‘Stay W!th Me’ 퍼포먼스 비디오   \n",
       "13912               '세븐♥' 이다해, 뷰티 MC의 패션은 시상식이네…화려함 그 잡채   \n",
       "13913  '편스토랑' 박수홍, 20년 인연 지인에 오열 \"모두가 등 돌릴 때 남아줬어\" [T...   \n",
       "13914                                    눈이 예쁜 로제 [MK포토]   \n",
       "\n",
       "                                                 Content  \\\n",
       "0                     돌 실내 경기도 서울 열린 파고다 경기 안양 아반 체육관 수비   \n",
       "1      같 월드컵 아시아 한국 수아레스 이어 김민재 선보일 보유고 소개 능력 피지컬 선수 ...   \n",
       "2      시즌 다황 이룰 대인 주 필요 생산력 효상 임석진 위한 선박 보강 동원 금지 재재 ...   \n",
       "3      타이거즈 우완 다 구상 염두 나온다면 바꿀 수다 기자 같 제공 투수 교체 펀치 원투...   \n",
       "4      오후 몬스터즈 다 송파구 잠실 서울 박수 연습 베어스 열린 잠실야구장 최강 경기 김...   \n",
       "...                                                  ...   \n",
       "13910  아웃 나아갈 이브스 크레이그 어니언 위한 돌아온다 한편 단전 금지 영화 배포 글래스...   \n",
       "13911  성숙 리브 채널 반응 전망 끌 기자 에너지 유튜브 공개 글로벌 비디오 시 니나 싱글...   \n",
       "13912              다 스타일링 이다해 기자 완성 세븐 공개 매치 셔츠 애 가수 드레스   \n",
       "13913                      인연 지혜 기자 눈물 수연 이날 사람 다 전보 박수홍   \n",
       "13914  귀국 국 콘서트 오후 인천 국제공항 길 투어 통해 수리 사귀 제니 블랙 핑크 이날 ...   \n",
       "\n",
       "                                                     URL  \\\n",
       "0                        https://v.daum.net/v/YoIX22A092   \n",
       "1                        https://v.daum.net/v/1czH3hZdrj   \n",
       "2                        https://v.daum.net/v/7hF6gGfO8x   \n",
       "3      https://sports.news.naver.com/news?oid=109&aid...   \n",
       "4                        https://v.daum.net/v/tjGDTHujoH   \n",
       "...                                                  ...   \n",
       "13910             https://v.daum.net/v/20221118094356821   \n",
       "13911             https://v.daum.net/v/20221125220043377   \n",
       "13912             https://v.daum.net/v/20221127161102212   \n",
       "13913             https://v.daum.net/v/20221202220209324   \n",
       "13914  https://entertain.naver.com//now/read?oid=410&...   \n",
       "\n",
       "                                                PhotoURL  Writer  \\\n",
       "0      https://t1.daumcdn.net/news/202211/27/sportsdo...  김민성 기자   \n",
       "1      https://t1.daumcdn.net/news/202211/14/poctan/2...     우충원   \n",
       "2      https://t1.daumcdn.net/news/202211/25/mydaily/...   마이데일리   \n",
       "3      ['https://imgnews.pstatic.net/image/109/2022/1...     이선호   \n",
       "4      https://t1.daumcdn.net/news/202211/20/xportsne...  김한준 기자   \n",
       "...                                                  ...     ...   \n",
       "13910  https://img1.daumcdn.net/thumb/R658x0.q70/?fna...      입력   \n",
       "13911  https://img3.daumcdn.net/thumb/R658x0.q70/?fna...     손봉석   \n",
       "13912  https://img2.daumcdn.net/thumb/R658x0.q70/?fna...     강민경   \n",
       "13913  https://img2.daumcdn.net/thumb/R658x0.q70/?fna...     임시령   \n",
       "13914  ['https://ssl.pstatic.net/mimgnews/image/410/2...     김재현   \n",
       "\n",
       "                                                Stickers   Press  \\\n",
       "0      {'추천해요': 0, '좋아요': 0, '감동이에요': 0, '화나요': 0, '슬...   스포츠동아   \n",
       "1      {'추천해요': 12, '좋아요': 161, '감동이에요': 14, '화나요': 4...    OSEN   \n",
       "2      {'추천해요': 1, '좋아요': 20, '감동이에요': 1, '화나요': 81, ...   마이데일리   \n",
       "3      {'좋아요': 147, '슬퍼요': 3, '화나요': 15, '팬이에요': 10, ...    OSEN   \n",
       "4      {'추천해요': 0, '좋아요': 0, '감동이에요': 0, '화나요': 6, '슬...  엑스포츠뉴스   \n",
       "...                                                  ...     ...   \n",
       "13910                                                      마이데일리   \n",
       "13911                                                      스포츠경향   \n",
       "13912                                                       텐아시아   \n",
       "13913                                                     스포츠투데이   \n",
       "13914  {'좋아요': 34, '응원해요': 30, '축하해요': '0', '기대해요': '...  MK스포츠    \n",
       "\n",
       "                                           CosSimilarity  \n",
       "0                 1249668, 949955, 944830, 868607, 84458  \n",
       "1                           889553, 874244, 72094, 54353  \n",
       "2                                  907574, 888463, 86906  \n",
       "3      969100, 964532, 937377, 931381, 923472, 917990...  \n",
       "4      1299012, 1286520, 976357, 954321, 948450, 9276...  \n",
       "...                                                  ...  \n",
       "13910  1334309, 1334286, 1333959, 1333276, 1332530, 1...  \n",
       "13911                                     970805, 954107  \n",
       "13912                             1259186, 887183, 19873  \n",
       "13913  1333042, 1327554, 1323032, 1304638, 1302469, 1...  \n",
       "13914  977177, 970345, 947506, 927451, 913778, 910380...  \n",
       "\n",
       "[13915 rows x 13 columns]"
      ]
     },
     "execution_count": 150,
     "metadata": {},
     "output_type": "execute_result"
    }
   ],
   "source": [
    "df"
   ]
  },
  {
   "cell_type": "code",
   "execution_count": null,
   "metadata": {},
   "outputs": [],
   "source": []
  }
 ],
 "metadata": {
  "kernelspec": {
   "display_name": "project1",
   "language": "python",
   "name": "python3"
  },
  "language_info": {
   "codemirror_mode": {
    "name": "ipython",
    "version": 3
   },
   "file_extension": ".py",
   "mimetype": "text/x-python",
   "name": "python",
   "nbconvert_exporter": "python",
   "pygments_lexer": "ipython3",
   "version": "3.8.15"
  },
  "orig_nbformat": 4,
  "vscode": {
   "interpreter": {
    "hash": "bb0c2b2e33a8bbc9324abe172f16f5be0a36d26d93f9b38dc3fecfa8c79d8138"
   }
  }
 },
 "nbformat": 4,
 "nbformat_minor": 2
}

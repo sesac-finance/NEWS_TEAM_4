{
 "cells": [
  {
   "cell_type": "code",
   "execution_count": null,
   "metadata": {},
   "outputs": [],
   "source": [
    "import pandas as pd\n",
    "import re\n",
    "from konlpy.tag import Mecab\n",
    "from gensim.models.doc2vec import Doc2Vec, TaggedDocument\n",
    "from nltk.tokenize import word_tokenize\n",
    "from tqdm import tqdm  # 반복문 진행상황 보기\n",
    "from sklearn.metrics.pairwise import cosine_similarity\n",
    "from numpy import dot\n",
    "from numpy.linalg import norm\n",
    "import numpy as np\n",
    "from gensim.models.callbacks import CallbackAny2Vec\n",
    "import time"
   ]
  },
  {
   "cell_type": "code",
   "execution_count": null,
   "metadata": {},
   "outputs": [],
   "source": [
    "import pymysql\n",
    "import pandas as pd\n",
    "host_name = 'localhost'\n",
    "host_port = 3306\n",
    "username='root'\n",
    "password='12345678'\n",
    "database_name='news_team_4'\n",
    "db = pymysql.connect(\n",
    "    host=host_name,\n",
    "    port=host_port,\n",
    "    user=username,\n",
    "    password=password,\n",
    "    db=database_name,\n",
    "    charset='utf8'\n",
    ")\n",
    "SQL='SELECT * FROM tb_news_team_4'\n",
    "df=pd.read_sql(SQL, db)"
   ]
  },
  {
   "cell_type": "code",
   "execution_count": null,
   "metadata": {},
   "outputs": [],
   "source": [
    "df = df[df['Content'] != '']"
   ]
  },
  {
   "cell_type": "code",
   "execution_count": null,
   "metadata": {},
   "outputs": [],
   "source": [
    "df['MainCategory'].unique()"
   ]
  },
  {
   "cell_type": "code",
   "execution_count": null,
   "metadata": {},
   "outputs": [],
   "source": [
    "df.loc[df['MainCategory'] == 'entertain', 'MainCategory'] = '연예'\n",
    "\n"
   ]
  },
  {
   "cell_type": "code",
   "execution_count": null,
   "metadata": {},
   "outputs": [],
   "source": [
    "df.loc[df['MainCategory'] == '승부예측', 'MainCategory'] = '스포츠'\n"
   ]
  },
  {
   "cell_type": "code",
   "execution_count": null,
   "metadata": {},
   "outputs": [],
   "source": [
    "df = df[df.MainCategory != '영상']\n"
   ]
  },
  {
   "cell_type": "code",
   "execution_count": null,
   "metadata": {},
   "outputs": [],
   "source": [
    "df.loc[df['MainCategory'] == '문화', 'MainCategory'] = '생활/문화'"
   ]
  },
  {
   "cell_type": "code",
   "execution_count": null,
   "metadata": {},
   "outputs": [],
   "source": [
    "df.loc[df['MainCategory'] == 'IT', 'MainCategory'] = 'IT/과학'"
   ]
  },
  {
   "cell_type": "code",
   "execution_count": null,
   "metadata": {},
   "outputs": [],
   "source": [
    "df.loc[df['MainCategory'] == '세계', 'MainCategory'] = '국제'"
   ]
  },
  {
   "cell_type": "code",
   "execution_count": null,
   "metadata": {},
   "outputs": [],
   "source": [
    "sports = df[df['MainCategory'] == '스포츠']\n",
    "enter = df[df['MainCategory'] == '연예']\n",
    "social = df[df['MainCategory'] == '사회']\n",
    "culture = df[df['MainCategory'] == '생활/문화']\n",
    "politics = df[df['MainCategory'] == '정치']\n",
    "economy = df[df['MainCategory'] == '경제']\n",
    "inter = df[df['MainCategory'] == '국제']\n",
    "it_sci = df[df['MainCategory'] == 'IT/과학']"
   ]
  },
  {
   "cell_type": "code",
   "execution_count": null,
   "metadata": {},
   "outputs": [],
   "source": [
    "s_sports =sports.sample(frac=0.2, replace=False, ignore_index=True, axis=0)\n",
    "s_enter = enter.sample(frac=0.2, replace=False, ignore_index=True, axis=0)\n",
    "s_social = social.sample(frac=0.2, replace=False, ignore_index=True, axis=0)\n",
    "s_culture = culture.sample(frac=0.2, replace=False, ignore_index=True, axis=0)\n",
    "s_politics = politics.sample(frac=0.2, replace=False, ignore_index=True, axis=0)\n",
    "s_economy = economy.sample(frac=0.2, replace=False, ignore_index=True, axis=0)\n",
    "s_inter = inter.sample(frac=0.2, replace=False, ignore_index=True, axis=0)\n",
    "s_it_sci = it_sci.sample(frac=0.2, replace=False, ignore_index=True, axis=0)"
   ]
  },
  {
   "cell_type": "code",
   "execution_count": null,
   "metadata": {},
   "outputs": [],
   "source": [
    "df_list = [s_sports, s_enter, s_social, s_culture, s_politics, s_economy, s_inter, s_it_sci]"
   ]
  },
  {
   "cell_type": "code",
   "execution_count": null,
   "metadata": {},
   "outputs": [],
   "source": [
    "df_all = pd.read_csv('/Users/stillssi/Desktop/NEWS_TEAM_4/MDL/testmodel/sample_df.csv')"
   ]
  },
  {
   "cell_type": "code",
   "execution_count": null,
   "metadata": {},
   "outputs": [],
   "source": [
    "df_all = pd.concat(df_list, ignore_index=True)\n",
    "df_all = df_all.drop_duplicates(['URL'])\n",
    "df_all = df_all[df_all['Content'] != '카톡']\n",
    "df_all = df_all[df_all['Content'] != '']\n",
    "df_all.to_csv('./sample_df.csv')"
   ]
  },
  {
   "cell_type": "code",
   "execution_count": null,
   "metadata": {},
   "outputs": [],
   "source": [
    "len(df_all)"
   ]
  },
  {
   "cell_type": "code",
   "execution_count": null,
   "metadata": {},
   "outputs": [],
   "source": [
    "tagged_corpus_list = []\n",
    "for i in range(len(df_all)):\n",
    "    content = df_all['Content'].iloc[i]\n",
    "    \n",
    "    tag = df_all['URL'].iloc[i]\n",
    "    tagged_corpus_list.append(TaggedDocument(tags=[tag], words=content))"
   ]
  },
  {
   "cell_type": "code",
   "execution_count": null,
   "metadata": {},
   "outputs": [],
   "source": [
    "len(tagged_corpus_list)"
   ]
  },
  {
   "cell_type": "code",
   "execution_count": null,
   "metadata": {},
   "outputs": [],
   "source": [
    "model = Doc2Vec(vector_size=100, alpha=0.025, min_alpha=0.01, workers=8)\n",
    "model.build_vocab(tagged_corpus_list)\n",
    "model.train(tqdm(tagged_corpus_list, total=len(tagged_corpus_list)), total_examples=model.corpus_count, epochs=10)"
   ]
  },
  {
   "cell_type": "code",
   "execution_count": null,
   "metadata": {},
   "outputs": [],
   "source": [
    "\n",
    "model.save('trainedMDL')\n",
    "loaded_model = Doc2Vec.load('trainedMDL')"
   ]
  }
 ],
 "metadata": {
  "kernelspec": {
   "display_name": "Python 3.8.15 ('project1')",
   "language": "python",
   "name": "python3"
  },
  "language_info": {
   "codemirror_mode": {
    "name": "ipython",
    "version": 3
   },
   "file_extension": ".py",
   "mimetype": "text/x-python",
   "name": "python",
   "nbconvert_exporter": "python",
   "pygments_lexer": "ipython3",
   "version": "3.8.15 (default, Nov 10 2022, 13:17:42) \n[Clang 14.0.6 ]"
  },
  "orig_nbformat": 4,
  "vscode": {
   "interpreter": {
    "hash": "bb0c2b2e33a8bbc9324abe172f16f5be0a36d26d93f9b38dc3fecfa8c79d8138"
   }
  }
 },
 "nbformat": 4,
 "nbformat_minor": 2
}
